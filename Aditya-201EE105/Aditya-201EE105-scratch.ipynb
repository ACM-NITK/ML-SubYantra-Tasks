{
 "cells": [
  {
   "cell_type": "code",
   "execution_count": 32,
   "id": "3f032524",
   "metadata": {},
   "outputs": [],
   "source": [
    "import numpy as np\n",
    "\n",
    "import pandas as pd                #Importing libraries\n",
    "\n",
    "from matplotlib import pyplot\n",
    "%matplotlib inline\n",
    "%matplotlib notebook"
   ]
  },
  {
   "cell_type": "code",
   "execution_count": 33,
   "id": "a3f48f19",
   "metadata": {},
   "outputs": [
    {
     "name": "stdout",
     "output_type": "stream",
     "text": [
      "<bound method NDFrame.head of        longitude  latitude  housing_median_age  total_rooms  total_bedrooms  \\\n",
      "0        -122.23     37.88                  41          880           129.0   \n",
      "1        -122.22     37.86                  21         7099          1106.0   \n",
      "2        -122.24     37.85                  52         1467           190.0   \n",
      "3        -122.25     37.85                  52         1274           235.0   \n",
      "4        -122.25     37.85                  52         1627           280.0   \n",
      "...          ...       ...                 ...          ...             ...   \n",
      "20635    -121.09     39.48                  25         1665           374.0   \n",
      "20636    -121.21     39.49                  18          697           150.0   \n",
      "20637    -121.22     39.43                  17         2254           485.0   \n",
      "20638    -121.32     39.43                  18         1860           409.0   \n",
      "20639    -121.24     39.37                  16         2785           616.0   \n",
      "\n",
      "       population  households  median_income  median_house_value  \n",
      "0             322         126         8.3252              452600  \n",
      "1            2401        1138         8.3014              358500  \n",
      "2             496         177         7.2574              352100  \n",
      "3             558         219         5.6431              341300  \n",
      "4             565         259         3.8462              342200  \n",
      "...           ...         ...            ...                 ...  \n",
      "20635         845         330         1.5603               78100  \n",
      "20636         356         114         2.5568               77100  \n",
      "20637        1007         433         1.7000               92300  \n",
      "20638         741         349         1.8672               84700  \n",
      "20639        1387         530         2.3886               89400  \n",
      "\n",
      "[20640 rows x 9 columns]>\n",
      "<bound method NDFrame.tail of        longitude  latitude  housing_median_age  total_rooms  total_bedrooms  \\\n",
      "0        -122.23     37.88                  41          880           129.0   \n",
      "1        -122.22     37.86                  21         7099          1106.0   \n",
      "2        -122.24     37.85                  52         1467           190.0   \n",
      "3        -122.25     37.85                  52         1274           235.0   \n",
      "4        -122.25     37.85                  52         1627           280.0   \n",
      "...          ...       ...                 ...          ...             ...   \n",
      "20635    -121.09     39.48                  25         1665           374.0   \n",
      "20636    -121.21     39.49                  18          697           150.0   \n",
      "20637    -121.22     39.43                  17         2254           485.0   \n",
      "20638    -121.32     39.43                  18         1860           409.0   \n",
      "20639    -121.24     39.37                  16         2785           616.0   \n",
      "\n",
      "       population  households  median_income  median_house_value  \n",
      "0             322         126         8.3252              452600  \n",
      "1            2401        1138         8.3014              358500  \n",
      "2             496         177         7.2574              352100  \n",
      "3             558         219         5.6431              341300  \n",
      "4             565         259         3.8462              342200  \n",
      "...           ...         ...            ...                 ...  \n",
      "20635         845         330         1.5603               78100  \n",
      "20636         356         114         2.5568               77100  \n",
      "20637        1007         433         1.7000               92300  \n",
      "20638         741         349         1.8672               84700  \n",
      "20639        1387         530         2.3886               89400  \n",
      "\n",
      "[20640 rows x 9 columns]>\n"
     ]
    }
   ],
   "source": [
    "#Loading data into pandas dataframe\n",
    "df = pd.read_csv( r'dataset_housingprices.csv')\n",
    "df.columns\n",
    "\n",
    "print(df.head)   #Analysis the data present\n",
    "print(df.tail)"
   ]
  },
  {
   "cell_type": "code",
   "execution_count": 34,
   "id": "17bef34e",
   "metadata": {},
   "outputs": [
    {
     "data": {
      "text/html": [
       "<div>\n",
       "<style scoped>\n",
       "    .dataframe tbody tr th:only-of-type {\n",
       "        vertical-align: middle;\n",
       "    }\n",
       "\n",
       "    .dataframe tbody tr th {\n",
       "        vertical-align: top;\n",
       "    }\n",
       "\n",
       "    .dataframe thead th {\n",
       "        text-align: right;\n",
       "    }\n",
       "</style>\n",
       "<table border=\"1\" class=\"dataframe\">\n",
       "  <thead>\n",
       "    <tr style=\"text-align: right;\">\n",
       "      <th></th>\n",
       "      <th>longitude</th>\n",
       "      <th>latitude</th>\n",
       "      <th>housing_median_age</th>\n",
       "      <th>total_rooms</th>\n",
       "      <th>total_bedrooms</th>\n",
       "      <th>population</th>\n",
       "      <th>households</th>\n",
       "      <th>median_income</th>\n",
       "      <th>median_house_value</th>\n",
       "    </tr>\n",
       "  </thead>\n",
       "  <tbody>\n",
       "    <tr>\n",
       "      <th>longitude</th>\n",
       "      <td>1.000000</td>\n",
       "      <td>-0.924664</td>\n",
       "      <td>-0.108197</td>\n",
       "      <td>0.044568</td>\n",
       "      <td>0.069608</td>\n",
       "      <td>0.099773</td>\n",
       "      <td>0.055310</td>\n",
       "      <td>-0.015176</td>\n",
       "      <td>-0.045967</td>\n",
       "    </tr>\n",
       "    <tr>\n",
       "      <th>latitude</th>\n",
       "      <td>-0.924664</td>\n",
       "      <td>1.000000</td>\n",
       "      <td>0.011173</td>\n",
       "      <td>-0.036100</td>\n",
       "      <td>-0.066983</td>\n",
       "      <td>-0.108785</td>\n",
       "      <td>-0.071035</td>\n",
       "      <td>-0.079809</td>\n",
       "      <td>-0.144160</td>\n",
       "    </tr>\n",
       "    <tr>\n",
       "      <th>housing_median_age</th>\n",
       "      <td>-0.108197</td>\n",
       "      <td>0.011173</td>\n",
       "      <td>1.000000</td>\n",
       "      <td>-0.361262</td>\n",
       "      <td>-0.320451</td>\n",
       "      <td>-0.296244</td>\n",
       "      <td>-0.302916</td>\n",
       "      <td>-0.119034</td>\n",
       "      <td>0.105623</td>\n",
       "    </tr>\n",
       "    <tr>\n",
       "      <th>total_rooms</th>\n",
       "      <td>0.044568</td>\n",
       "      <td>-0.036100</td>\n",
       "      <td>-0.361262</td>\n",
       "      <td>1.000000</td>\n",
       "      <td>0.930380</td>\n",
       "      <td>0.857126</td>\n",
       "      <td>0.918484</td>\n",
       "      <td>0.198050</td>\n",
       "      <td>0.134153</td>\n",
       "    </tr>\n",
       "    <tr>\n",
       "      <th>total_bedrooms</th>\n",
       "      <td>0.069608</td>\n",
       "      <td>-0.066983</td>\n",
       "      <td>-0.320451</td>\n",
       "      <td>0.930380</td>\n",
       "      <td>1.000000</td>\n",
       "      <td>0.877747</td>\n",
       "      <td>0.979728</td>\n",
       "      <td>-0.007723</td>\n",
       "      <td>0.049686</td>\n",
       "    </tr>\n",
       "    <tr>\n",
       "      <th>population</th>\n",
       "      <td>0.099773</td>\n",
       "      <td>-0.108785</td>\n",
       "      <td>-0.296244</td>\n",
       "      <td>0.857126</td>\n",
       "      <td>0.877747</td>\n",
       "      <td>1.000000</td>\n",
       "      <td>0.907222</td>\n",
       "      <td>0.004834</td>\n",
       "      <td>-0.024650</td>\n",
       "    </tr>\n",
       "    <tr>\n",
       "      <th>households</th>\n",
       "      <td>0.055310</td>\n",
       "      <td>-0.071035</td>\n",
       "      <td>-0.302916</td>\n",
       "      <td>0.918484</td>\n",
       "      <td>0.979728</td>\n",
       "      <td>0.907222</td>\n",
       "      <td>1.000000</td>\n",
       "      <td>0.013033</td>\n",
       "      <td>0.065843</td>\n",
       "    </tr>\n",
       "    <tr>\n",
       "      <th>median_income</th>\n",
       "      <td>-0.015176</td>\n",
       "      <td>-0.079809</td>\n",
       "      <td>-0.119034</td>\n",
       "      <td>0.198050</td>\n",
       "      <td>-0.007723</td>\n",
       "      <td>0.004834</td>\n",
       "      <td>0.013033</td>\n",
       "      <td>1.000000</td>\n",
       "      <td>0.688075</td>\n",
       "    </tr>\n",
       "    <tr>\n",
       "      <th>median_house_value</th>\n",
       "      <td>-0.045967</td>\n",
       "      <td>-0.144160</td>\n",
       "      <td>0.105623</td>\n",
       "      <td>0.134153</td>\n",
       "      <td>0.049686</td>\n",
       "      <td>-0.024650</td>\n",
       "      <td>0.065843</td>\n",
       "      <td>0.688075</td>\n",
       "      <td>1.000000</td>\n",
       "    </tr>\n",
       "  </tbody>\n",
       "</table>\n",
       "</div>"
      ],
      "text/plain": [
       "                    longitude  latitude  housing_median_age  total_rooms  \\\n",
       "longitude            1.000000 -0.924664           -0.108197     0.044568   \n",
       "latitude            -0.924664  1.000000            0.011173    -0.036100   \n",
       "housing_median_age  -0.108197  0.011173            1.000000    -0.361262   \n",
       "total_rooms          0.044568 -0.036100           -0.361262     1.000000   \n",
       "total_bedrooms       0.069608 -0.066983           -0.320451     0.930380   \n",
       "population           0.099773 -0.108785           -0.296244     0.857126   \n",
       "households           0.055310 -0.071035           -0.302916     0.918484   \n",
       "median_income       -0.015176 -0.079809           -0.119034     0.198050   \n",
       "median_house_value  -0.045967 -0.144160            0.105623     0.134153   \n",
       "\n",
       "                    total_bedrooms  population  households  median_income  \\\n",
       "longitude                 0.069608    0.099773    0.055310      -0.015176   \n",
       "latitude                 -0.066983   -0.108785   -0.071035      -0.079809   \n",
       "housing_median_age       -0.320451   -0.296244   -0.302916      -0.119034   \n",
       "total_rooms               0.930380    0.857126    0.918484       0.198050   \n",
       "total_bedrooms            1.000000    0.877747    0.979728      -0.007723   \n",
       "population                0.877747    1.000000    0.907222       0.004834   \n",
       "households                0.979728    0.907222    1.000000       0.013033   \n",
       "median_income            -0.007723    0.004834    0.013033       1.000000   \n",
       "median_house_value        0.049686   -0.024650    0.065843       0.688075   \n",
       "\n",
       "                    median_house_value  \n",
       "longitude                    -0.045967  \n",
       "latitude                     -0.144160  \n",
       "housing_median_age            0.105623  \n",
       "total_rooms                   0.134153  \n",
       "total_bedrooms                0.049686  \n",
       "population                   -0.024650  \n",
       "households                    0.065843  \n",
       "median_income                 0.688075  \n",
       "median_house_value            1.000000  "
      ]
     },
     "execution_count": 34,
     "metadata": {},
     "output_type": "execute_result"
    }
   ],
   "source": [
    "df.corr()"
   ]
  },
  {
   "cell_type": "code",
   "execution_count": 35,
   "id": "a625cb64",
   "metadata": {},
   "outputs": [
    {
     "name": "stdout",
     "output_type": "stream",
     "text": [
      "       longitude  latitude  median_income\n",
      "0        -122.23     37.88         8.3252\n",
      "1        -122.22     37.86         8.3014\n",
      "2        -122.24     37.85         7.2574\n",
      "3        -122.25     37.85         5.6431\n",
      "4        -122.25     37.85         3.8462\n",
      "...          ...       ...            ...\n",
      "20635    -121.09     39.48         1.5603\n",
      "20636    -121.21     39.49         2.5568\n",
      "20637    -121.22     39.43         1.7000\n",
      "20638    -121.32     39.43         1.8672\n",
      "20639    -121.24     39.37         2.3886\n",
      "\n",
      "[20433 rows x 3 columns]\n",
      "0        452600\n",
      "1        358500\n",
      "2        352100\n",
      "3        341300\n",
      "4        342200\n",
      "          ...  \n",
      "20635     78100\n",
      "20636     77100\n",
      "20637     92300\n",
      "20638     84700\n",
      "20639     89400\n",
      "Name: median_house_value, Length: 20433, dtype: int64\n"
     ]
    }
   ],
   "source": [
    "df=df.dropna(subset=[\"longitude\",\"latitude\",\"housing_median_age\",\"total_rooms\",\"total_bedrooms\",\"population\",\"households\",\"median_income\",\"median_house_value\"]) #remove total_bedrooms\n",
    "#TODO:replace missing data with median\n",
    "\n",
    "X = df.iloc[:, [0,1,7]]\n",
    "y = df.iloc[:, 8]\n",
    "m = y.size\n",
    "\n",
    "\n",
    "print(X)\n",
    "print(y)"
   ]
  },
  {
   "cell_type": "code",
   "execution_count": 36,
   "id": "d6f4d456",
   "metadata": {},
   "outputs": [],
   "source": [
    "#Method to reduce all values into a smaller range for reduced calculation.\n",
    "def  Normalize(X):\n",
    "   \n",
    "    X_norm = X.copy()                  \n",
    "                                       #Didn't nomalize and during gradient descent the features were NaN \n",
    "    me = np.zeros(X.shape[1])\n",
    "    st = np.zeros(X.shape[1])          \n",
    "    \n",
    "    me = np.mean(X, axis = 0)\n",
    "    st = np.std(X, axis = 0)\n",
    "    X_norm = (X - me) / st\n",
    "    \n",
    "    return X_norm, me, st\n",
    "\n",
    "#print(sigma)"
   ]
  },
  {
   "cell_type": "code",
   "execution_count": 37,
   "id": "c0372857",
   "metadata": {},
   "outputs": [
    {
     "name": "stdout",
     "output_type": "stream",
     "text": [
      "Computed mean: longitude       -119.570689\n",
      "latitude          35.633221\n",
      "median_income      3.871162\n",
      "dtype: float64\n",
      "Computed standard deviation: longitude        2.003529\n",
      "latitude         2.136295\n",
      "median_income    1.899245\n",
      "dtype: float64\n"
     ]
    }
   ],
   "source": [
    "X_norm, me, st = Normalize(X)\n",
    "\n",
    "print('Computed mean:', me)\n",
    "print('Computed standard deviation:', st)"
   ]
  },
  {
   "cell_type": "code",
   "execution_count": 38,
   "id": "dec10420",
   "metadata": {},
   "outputs": [
    {
     "name": "stdout",
     "output_type": "stream",
     "text": [
      "[[ 1.         -1.32731375  1.05171726  2.34516291]\n",
      " [ 1.         -1.32232256  1.04235526  2.33263161]\n",
      " [ 1.         -1.33230494  1.03767426  1.78293943]\n",
      " ...\n",
      " [ 1.         -0.82320322  1.77727236 -1.14317103]\n",
      " [ 1.         -0.87311515  1.77727236 -1.05513604]\n",
      " [ 1.         -0.83318561  1.74918635 -0.78060586]]\n"
     ]
    }
   ],
   "source": [
    "X = np.concatenate([np.ones((m, 1)), X_norm], axis=1)  #Adding the constant c in (y=mx+c). Value taken as 1 \n",
    "print(X)"
   ]
  },
  {
   "cell_type": "code",
   "execution_count": 43,
   "id": "c01aba4c",
   "metadata": {},
   "outputs": [],
   "source": [
    "def computeCost(X, y, theta):    #Cost function\n",
    "    \n",
    "    m = y.shape[0]   #Number of training examples\n",
    "    \n",
    "    \n",
    "    J = 0\n",
    "    \n",
    "    J = (1/(2 * m)) * np.sum(np.square(np.dot(X, theta) - y))   #Mean squared error cost function. Its similar to distance between two points\n",
    "    #print(J)                                                   #Goal is to minimize the distance between point and line\n",
    "    \n",
    "   \n",
    "    return J\n"
   ]
  },
  {
   "cell_type": "code",
   "execution_count": 51,
   "id": "cdef5371",
   "metadata": {},
   "outputs": [],
   "source": [
    "def gradientDescent(X, y, theta, alpha, num_iters):\n",
    "    \n",
    "    \n",
    "    \n",
    "    m = y.shape[0]   # Number of training examples\n",
    "    J_history=[]     #List to store the cost functions through the iterations and make a plot to show gradient descent at work\n",
    "    \n",
    "    for i in range(num_iters):\n",
    "        \n",
    "        \n",
    "\n",
    "        theta = theta - (alpha / m) * (np.dot(X, theta) - y).dot(X)\n",
    "        \n",
    "        J_history.append(computeCost(X, y, theta))  \n",
    "        \n",
    "        \n",
    "        if(i%1000==0):\n",
    "          print(theta)\n",
    "           \n",
    "    \n",
    "    return theta,J_history"
   ]
  },
  {
   "cell_type": "code",
   "execution_count": 52,
   "id": "202e8860",
   "metadata": {},
   "outputs": [
    {
     "name": "stdout",
     "output_type": "stream",
     "text": [
      "Parameters updating:\n",
      "[2068.64413155  -52.40445495 -166.95999871  794.58829048]\n",
      "[206855.57186631 -51686.66731376 -55148.74462943  74608.10431237]\n",
      "[206864.41277339 -75980.41392321 -79528.48427376  72116.46848652]\n",
      "[206864.41315504 -87980.40933869 -91571.07012764  70884.06952   ]\n",
      "[206864.41315505 -93907.92543959 -97519.62420047  70275.31382521]\n",
      "[ 206864.41315505  -96835.8804883  -100457.97116295   69974.61294483]\n",
      "[ 206864.41315505  -98282.17276678 -101909.39662974   69826.07877877]\n",
      "[ 206864.41315504  -98996.58310436 -102626.34255633   69752.70886226]\n",
      "[ 206864.41315504  -99349.47313776 -102980.48506892   69716.46706826]\n",
      "[ 206864.41315504  -99523.78665076 -103155.41725638   69698.56507662]\n",
      "[ 206864.41315504  -99609.89052998 -103241.82673595   69689.72221125]\n",
      "[ 206864.41315504  -99652.42239048 -103284.50955075   69685.35419068]\n",
      "[ 206864.41315504  -99673.43142252 -103305.59314816   69683.19656383]\n",
      "[ 206864.41315504  -99683.80904113 -103316.00759907   69682.13078276]\n",
      "[ 206864.41315504  -99688.93516821 -103321.15191983   69681.60432969]\n",
      "[ 206864.41315504  -99691.46726925 -103323.69300782   69681.344283  ]\n",
      "[ 206864.41315504  -99692.71802554 -103324.94820329   69681.21583038]\n",
      "[ 206864.41315504  -99693.33584894 -103325.56821948   69681.15237994]\n",
      "[ 206864.41315504  -99693.6410289  -103325.87448259   69681.12103796]\n",
      "[ 206864.41315504  -99693.79177556 -103326.02576428   69681.10555629]\n",
      "[ 206864.41315504  -99693.86623836 -103326.10049136   69681.09790896]\n",
      "[ 206864.41315504  -99693.90301999 -103326.13740354   69681.09413149]\n",
      "[ 206864.41315504  -99693.92118864 -103326.15563667   69681.09226557]\n",
      "[ 206864.41315504  -99693.93016322 -103326.16464311   69681.09134388]\n",
      "[ 206864.41315504  -99693.93459631 -103326.16909193   69681.0908886 ]\n",
      "[ 206864.41315504  -99693.93678607 -103326.17128946   69681.09066371]\n",
      "[ 206864.41315504  -99693.93786773 -103326.17237496   69681.09055263]\n",
      "[ 206864.41315504  -99693.93840202 -103326.17291115   69681.09049775]\n",
      "[ 206864.41315504  -99693.93866595 -103326.17317601   69681.09047065]\n",
      "[ 206864.41315504  -99693.93879631 -103326.17330684   69681.09045726]\n",
      "[ 206864.41315504  -99693.93886071 -103326.17337146   69681.09045065]\n",
      "[ 206864.41315504  -99693.93889252 -103326.17340338   69681.09044738]\n",
      "[ 206864.41315504  -99693.93890823 -103326.17341915   69681.09044577]\n",
      "[ 206864.41315504  -99693.93891599 -103326.17342694   69681.09044497]\n",
      "[ 206864.41315504  -99693.93891982 -103326.17343079   69681.09044458]\n",
      "[ 206864.41315504  -99693.93892172 -103326.17343269   69681.09044438]\n",
      "[ 206864.41315504  -99693.93892265 -103326.17343363   69681.09044429]\n",
      "[ 206864.41315504  -99693.93892311 -103326.17343409   69681.09044424]\n",
      "[ 206864.41315504  -99693.93892334 -103326.17343432   69681.09044422]\n",
      "[ 206864.41315504  -99693.93892345 -103326.17343443   69681.0904442 ]\n"
     ]
    }
   ],
   "source": [
    "alpha = 0.01   #Learning rate\n",
    "num_iters = 40000  #Number of iterations taken\n",
    "\n",
    "# Initialize theta(parameters) with 0s and run gradient descent\n",
    "theta = np.zeros(X.shape[1])\n",
    "print(\"Parameters updating:\")\n",
    "theta,J_history= gradientDescent(X, y, theta, alpha, num_iters)\n",
    "\n"
   ]
  },
  {
   "cell_type": "code",
   "execution_count": 53,
   "id": "167a5c8e",
   "metadata": {},
   "outputs": [
    {
     "name": "stdout",
     "output_type": "stream",
     "text": [
      "4\n"
     ]
    }
   ],
   "source": [
    "print(X.shape[1])"
   ]
  },
  {
   "cell_type": "code",
   "execution_count": 54,
   "id": "4f8ccdd6",
   "metadata": {},
   "outputs": [
    {
     "name": "stdout",
     "output_type": "stream",
     "text": [
      "9058568.132243354\n"
     ]
    }
   ],
   "source": [
    "value = np.dot([1,-122.23,37.88,8.3252], theta)   #Subsituting values in the fitted y=m1X1+m2X2......+C\n",
    "print(value) #Very wrong result F"
   ]
  },
  {
   "cell_type": "code",
   "execution_count": 56,
   "id": "ede7fa89",
   "metadata": {},
   "outputs": [
    {
     "name": "stdout",
     "output_type": "stream",
     "text": [
      "40000\n"
     ]
    }
   ],
   "source": [
    "print(len(J_history))"
   ]
  },
  {
   "cell_type": "code",
   "execution_count": 57,
   "id": "c678c0c4",
   "metadata": {},
   "outputs": [
    {
     "data": {
      "application/javascript": "/* Put everything inside the global mpl namespace */\n/* global mpl */\nwindow.mpl = {};\n\nmpl.get_websocket_type = function () {\n    if (typeof WebSocket !== 'undefined') {\n        return WebSocket;\n    } else if (typeof MozWebSocket !== 'undefined') {\n        return MozWebSocket;\n    } else {\n        alert(\n            'Your browser does not have WebSocket support. ' +\n                'Please try Chrome, Safari or Firefox ≥ 6. ' +\n                'Firefox 4 and 5 are also supported but you ' +\n                'have to enable WebSockets in about:config.'\n        );\n    }\n};\n\nmpl.figure = function (figure_id, websocket, ondownload, parent_element) {\n    this.id = figure_id;\n\n    this.ws = websocket;\n\n    this.supports_binary = this.ws.binaryType !== undefined;\n\n    if (!this.supports_binary) {\n        var warnings = document.getElementById('mpl-warnings');\n        if (warnings) {\n            warnings.style.display = 'block';\n            warnings.textContent =\n                'This browser does not support binary websocket messages. ' +\n                'Performance may be slow.';\n        }\n    }\n\n    this.imageObj = new Image();\n\n    this.context = undefined;\n    this.message = undefined;\n    this.canvas = undefined;\n    this.rubberband_canvas = undefined;\n    this.rubberband_context = undefined;\n    this.format_dropdown = undefined;\n\n    this.image_mode = 'full';\n\n    this.root = document.createElement('div');\n    this.root.setAttribute('style', 'display: inline-block');\n    this._root_extra_style(this.root);\n\n    parent_element.appendChild(this.root);\n\n    this._init_header(this);\n    this._init_canvas(this);\n    this._init_toolbar(this);\n\n    var fig = this;\n\n    this.waiting = false;\n\n    this.ws.onopen = function () {\n        fig.send_message('supports_binary', { value: fig.supports_binary });\n        fig.send_message('send_image_mode', {});\n        if (fig.ratio !== 1) {\n            fig.send_message('set_dpi_ratio', { dpi_ratio: fig.ratio });\n        }\n        fig.send_message('refresh', {});\n    };\n\n    this.imageObj.onload = function () {\n        if (fig.image_mode === 'full') {\n            // Full images could contain transparency (where diff images\n            // almost always do), so we need to clear the canvas so that\n            // there is no ghosting.\n            fig.context.clearRect(0, 0, fig.canvas.width, fig.canvas.height);\n        }\n        fig.context.drawImage(fig.imageObj, 0, 0);\n    };\n\n    this.imageObj.onunload = function () {\n        fig.ws.close();\n    };\n\n    this.ws.onmessage = this._make_on_message_function(this);\n\n    this.ondownload = ondownload;\n};\n\nmpl.figure.prototype._init_header = function () {\n    var titlebar = document.createElement('div');\n    titlebar.classList =\n        'ui-dialog-titlebar ui-widget-header ui-corner-all ui-helper-clearfix';\n    var titletext = document.createElement('div');\n    titletext.classList = 'ui-dialog-title';\n    titletext.setAttribute(\n        'style',\n        'width: 100%; text-align: center; padding: 3px;'\n    );\n    titlebar.appendChild(titletext);\n    this.root.appendChild(titlebar);\n    this.header = titletext;\n};\n\nmpl.figure.prototype._canvas_extra_style = function (_canvas_div) {};\n\nmpl.figure.prototype._root_extra_style = function (_canvas_div) {};\n\nmpl.figure.prototype._init_canvas = function () {\n    var fig = this;\n\n    var canvas_div = (this.canvas_div = document.createElement('div'));\n    canvas_div.setAttribute(\n        'style',\n        'border: 1px solid #ddd;' +\n            'box-sizing: content-box;' +\n            'clear: both;' +\n            'min-height: 1px;' +\n            'min-width: 1px;' +\n            'outline: 0;' +\n            'overflow: hidden;' +\n            'position: relative;' +\n            'resize: both;'\n    );\n\n    function on_keyboard_event_closure(name) {\n        return function (event) {\n            return fig.key_event(event, name);\n        };\n    }\n\n    canvas_div.addEventListener(\n        'keydown',\n        on_keyboard_event_closure('key_press')\n    );\n    canvas_div.addEventListener(\n        'keyup',\n        on_keyboard_event_closure('key_release')\n    );\n\n    this._canvas_extra_style(canvas_div);\n    this.root.appendChild(canvas_div);\n\n    var canvas = (this.canvas = document.createElement('canvas'));\n    canvas.classList.add('mpl-canvas');\n    canvas.setAttribute('style', 'box-sizing: content-box;');\n\n    this.context = canvas.getContext('2d');\n\n    var backingStore =\n        this.context.backingStorePixelRatio ||\n        this.context.webkitBackingStorePixelRatio ||\n        this.context.mozBackingStorePixelRatio ||\n        this.context.msBackingStorePixelRatio ||\n        this.context.oBackingStorePixelRatio ||\n        this.context.backingStorePixelRatio ||\n        1;\n\n    this.ratio = (window.devicePixelRatio || 1) / backingStore;\n\n    var rubberband_canvas = (this.rubberband_canvas = document.createElement(\n        'canvas'\n    ));\n    rubberband_canvas.setAttribute(\n        'style',\n        'box-sizing: content-box; position: absolute; left: 0; top: 0; z-index: 1;'\n    );\n\n    // Apply a ponyfill if ResizeObserver is not implemented by browser.\n    if (this.ResizeObserver === undefined) {\n        if (window.ResizeObserver !== undefined) {\n            this.ResizeObserver = window.ResizeObserver;\n        } else {\n            var obs = _JSXTOOLS_RESIZE_OBSERVER({});\n            this.ResizeObserver = obs.ResizeObserver;\n        }\n    }\n\n    this.resizeObserverInstance = new this.ResizeObserver(function (entries) {\n        var nentries = entries.length;\n        for (var i = 0; i < nentries; i++) {\n            var entry = entries[i];\n            var width, height;\n            if (entry.contentBoxSize) {\n                if (entry.contentBoxSize instanceof Array) {\n                    // Chrome 84 implements new version of spec.\n                    width = entry.contentBoxSize[0].inlineSize;\n                    height = entry.contentBoxSize[0].blockSize;\n                } else {\n                    // Firefox implements old version of spec.\n                    width = entry.contentBoxSize.inlineSize;\n                    height = entry.contentBoxSize.blockSize;\n                }\n            } else {\n                // Chrome <84 implements even older version of spec.\n                width = entry.contentRect.width;\n                height = entry.contentRect.height;\n            }\n\n            // Keep the size of the canvas and rubber band canvas in sync with\n            // the canvas container.\n            if (entry.devicePixelContentBoxSize) {\n                // Chrome 84 implements new version of spec.\n                canvas.setAttribute(\n                    'width',\n                    entry.devicePixelContentBoxSize[0].inlineSize\n                );\n                canvas.setAttribute(\n                    'height',\n                    entry.devicePixelContentBoxSize[0].blockSize\n                );\n            } else {\n                canvas.setAttribute('width', width * fig.ratio);\n                canvas.setAttribute('height', height * fig.ratio);\n            }\n            canvas.setAttribute(\n                'style',\n                'width: ' + width + 'px; height: ' + height + 'px;'\n            );\n\n            rubberband_canvas.setAttribute('width', width);\n            rubberband_canvas.setAttribute('height', height);\n\n            // And update the size in Python. We ignore the initial 0/0 size\n            // that occurs as the element is placed into the DOM, which should\n            // otherwise not happen due to the minimum size styling.\n            if (fig.ws.readyState == 1 && width != 0 && height != 0) {\n                fig.request_resize(width, height);\n            }\n        }\n    });\n    this.resizeObserverInstance.observe(canvas_div);\n\n    function on_mouse_event_closure(name) {\n        return function (event) {\n            return fig.mouse_event(event, name);\n        };\n    }\n\n    rubberband_canvas.addEventListener(\n        'mousedown',\n        on_mouse_event_closure('button_press')\n    );\n    rubberband_canvas.addEventListener(\n        'mouseup',\n        on_mouse_event_closure('button_release')\n    );\n    rubberband_canvas.addEventListener(\n        'dblclick',\n        on_mouse_event_closure('dblclick')\n    );\n    // Throttle sequential mouse events to 1 every 20ms.\n    rubberband_canvas.addEventListener(\n        'mousemove',\n        on_mouse_event_closure('motion_notify')\n    );\n\n    rubberband_canvas.addEventListener(\n        'mouseenter',\n        on_mouse_event_closure('figure_enter')\n    );\n    rubberband_canvas.addEventListener(\n        'mouseleave',\n        on_mouse_event_closure('figure_leave')\n    );\n\n    canvas_div.addEventListener('wheel', function (event) {\n        if (event.deltaY < 0) {\n            event.step = 1;\n        } else {\n            event.step = -1;\n        }\n        on_mouse_event_closure('scroll')(event);\n    });\n\n    canvas_div.appendChild(canvas);\n    canvas_div.appendChild(rubberband_canvas);\n\n    this.rubberband_context = rubberband_canvas.getContext('2d');\n    this.rubberband_context.strokeStyle = '#000000';\n\n    this._resize_canvas = function (width, height, forward) {\n        if (forward) {\n            canvas_div.style.width = width + 'px';\n            canvas_div.style.height = height + 'px';\n        }\n    };\n\n    // Disable right mouse context menu.\n    this.rubberband_canvas.addEventListener('contextmenu', function (_e) {\n        event.preventDefault();\n        return false;\n    });\n\n    function set_focus() {\n        canvas.focus();\n        canvas_div.focus();\n    }\n\n    window.setTimeout(set_focus, 100);\n};\n\nmpl.figure.prototype._init_toolbar = function () {\n    var fig = this;\n\n    var toolbar = document.createElement('div');\n    toolbar.classList = 'mpl-toolbar';\n    this.root.appendChild(toolbar);\n\n    function on_click_closure(name) {\n        return function (_event) {\n            return fig.toolbar_button_onclick(name);\n        };\n    }\n\n    function on_mouseover_closure(tooltip) {\n        return function (event) {\n            if (!event.currentTarget.disabled) {\n                return fig.toolbar_button_onmouseover(tooltip);\n            }\n        };\n    }\n\n    fig.buttons = {};\n    var buttonGroup = document.createElement('div');\n    buttonGroup.classList = 'mpl-button-group';\n    for (var toolbar_ind in mpl.toolbar_items) {\n        var name = mpl.toolbar_items[toolbar_ind][0];\n        var tooltip = mpl.toolbar_items[toolbar_ind][1];\n        var image = mpl.toolbar_items[toolbar_ind][2];\n        var method_name = mpl.toolbar_items[toolbar_ind][3];\n\n        if (!name) {\n            /* Instead of a spacer, we start a new button group. */\n            if (buttonGroup.hasChildNodes()) {\n                toolbar.appendChild(buttonGroup);\n            }\n            buttonGroup = document.createElement('div');\n            buttonGroup.classList = 'mpl-button-group';\n            continue;\n        }\n\n        var button = (fig.buttons[name] = document.createElement('button'));\n        button.classList = 'mpl-widget';\n        button.setAttribute('role', 'button');\n        button.setAttribute('aria-disabled', 'false');\n        button.addEventListener('click', on_click_closure(method_name));\n        button.addEventListener('mouseover', on_mouseover_closure(tooltip));\n\n        var icon_img = document.createElement('img');\n        icon_img.src = '_images/' + image + '.png';\n        icon_img.srcset = '_images/' + image + '_large.png 2x';\n        icon_img.alt = tooltip;\n        button.appendChild(icon_img);\n\n        buttonGroup.appendChild(button);\n    }\n\n    if (buttonGroup.hasChildNodes()) {\n        toolbar.appendChild(buttonGroup);\n    }\n\n    var fmt_picker = document.createElement('select');\n    fmt_picker.classList = 'mpl-widget';\n    toolbar.appendChild(fmt_picker);\n    this.format_dropdown = fmt_picker;\n\n    for (var ind in mpl.extensions) {\n        var fmt = mpl.extensions[ind];\n        var option = document.createElement('option');\n        option.selected = fmt === mpl.default_extension;\n        option.innerHTML = fmt;\n        fmt_picker.appendChild(option);\n    }\n\n    var status_bar = document.createElement('span');\n    status_bar.classList = 'mpl-message';\n    toolbar.appendChild(status_bar);\n    this.message = status_bar;\n};\n\nmpl.figure.prototype.request_resize = function (x_pixels, y_pixels) {\n    // Request matplotlib to resize the figure. Matplotlib will then trigger a resize in the client,\n    // which will in turn request a refresh of the image.\n    this.send_message('resize', { width: x_pixels, height: y_pixels });\n};\n\nmpl.figure.prototype.send_message = function (type, properties) {\n    properties['type'] = type;\n    properties['figure_id'] = this.id;\n    this.ws.send(JSON.stringify(properties));\n};\n\nmpl.figure.prototype.send_draw_message = function () {\n    if (!this.waiting) {\n        this.waiting = true;\n        this.ws.send(JSON.stringify({ type: 'draw', figure_id: this.id }));\n    }\n};\n\nmpl.figure.prototype.handle_save = function (fig, _msg) {\n    var format_dropdown = fig.format_dropdown;\n    var format = format_dropdown.options[format_dropdown.selectedIndex].value;\n    fig.ondownload(fig, format);\n};\n\nmpl.figure.prototype.handle_resize = function (fig, msg) {\n    var size = msg['size'];\n    if (size[0] !== fig.canvas.width || size[1] !== fig.canvas.height) {\n        fig._resize_canvas(size[0], size[1], msg['forward']);\n        fig.send_message('refresh', {});\n    }\n};\n\nmpl.figure.prototype.handle_rubberband = function (fig, msg) {\n    var x0 = msg['x0'] / fig.ratio;\n    var y0 = (fig.canvas.height - msg['y0']) / fig.ratio;\n    var x1 = msg['x1'] / fig.ratio;\n    var y1 = (fig.canvas.height - msg['y1']) / fig.ratio;\n    x0 = Math.floor(x0) + 0.5;\n    y0 = Math.floor(y0) + 0.5;\n    x1 = Math.floor(x1) + 0.5;\n    y1 = Math.floor(y1) + 0.5;\n    var min_x = Math.min(x0, x1);\n    var min_y = Math.min(y0, y1);\n    var width = Math.abs(x1 - x0);\n    var height = Math.abs(y1 - y0);\n\n    fig.rubberband_context.clearRect(\n        0,\n        0,\n        fig.canvas.width / fig.ratio,\n        fig.canvas.height / fig.ratio\n    );\n\n    fig.rubberband_context.strokeRect(min_x, min_y, width, height);\n};\n\nmpl.figure.prototype.handle_figure_label = function (fig, msg) {\n    // Updates the figure title.\n    fig.header.textContent = msg['label'];\n};\n\nmpl.figure.prototype.handle_cursor = function (fig, msg) {\n    var cursor = msg['cursor'];\n    switch (cursor) {\n        case 0:\n            cursor = 'pointer';\n            break;\n        case 1:\n            cursor = 'default';\n            break;\n        case 2:\n            cursor = 'crosshair';\n            break;\n        case 3:\n            cursor = 'move';\n            break;\n    }\n    fig.rubberband_canvas.style.cursor = cursor;\n};\n\nmpl.figure.prototype.handle_message = function (fig, msg) {\n    fig.message.textContent = msg['message'];\n};\n\nmpl.figure.prototype.handle_draw = function (fig, _msg) {\n    // Request the server to send over a new figure.\n    fig.send_draw_message();\n};\n\nmpl.figure.prototype.handle_image_mode = function (fig, msg) {\n    fig.image_mode = msg['mode'];\n};\n\nmpl.figure.prototype.handle_history_buttons = function (fig, msg) {\n    for (var key in msg) {\n        if (!(key in fig.buttons)) {\n            continue;\n        }\n        fig.buttons[key].disabled = !msg[key];\n        fig.buttons[key].setAttribute('aria-disabled', !msg[key]);\n    }\n};\n\nmpl.figure.prototype.handle_navigate_mode = function (fig, msg) {\n    if (msg['mode'] === 'PAN') {\n        fig.buttons['Pan'].classList.add('active');\n        fig.buttons['Zoom'].classList.remove('active');\n    } else if (msg['mode'] === 'ZOOM') {\n        fig.buttons['Pan'].classList.remove('active');\n        fig.buttons['Zoom'].classList.add('active');\n    } else {\n        fig.buttons['Pan'].classList.remove('active');\n        fig.buttons['Zoom'].classList.remove('active');\n    }\n};\n\nmpl.figure.prototype.updated_canvas_event = function () {\n    // Called whenever the canvas gets updated.\n    this.send_message('ack', {});\n};\n\n// A function to construct a web socket function for onmessage handling.\n// Called in the figure constructor.\nmpl.figure.prototype._make_on_message_function = function (fig) {\n    return function socket_on_message(evt) {\n        if (evt.data instanceof Blob) {\n            var img = evt.data;\n            if (img.type !== 'image/png') {\n                /* FIXME: We get \"Resource interpreted as Image but\n                 * transferred with MIME type text/plain:\" errors on\n                 * Chrome.  But how to set the MIME type?  It doesn't seem\n                 * to be part of the websocket stream */\n                img.type = 'image/png';\n            }\n\n            /* Free the memory for the previous frames */\n            if (fig.imageObj.src) {\n                (window.URL || window.webkitURL).revokeObjectURL(\n                    fig.imageObj.src\n                );\n            }\n\n            fig.imageObj.src = (window.URL || window.webkitURL).createObjectURL(\n                img\n            );\n            fig.updated_canvas_event();\n            fig.waiting = false;\n            return;\n        } else if (\n            typeof evt.data === 'string' &&\n            evt.data.slice(0, 21) === 'data:image/png;base64'\n        ) {\n            fig.imageObj.src = evt.data;\n            fig.updated_canvas_event();\n            fig.waiting = false;\n            return;\n        }\n\n        var msg = JSON.parse(evt.data);\n        var msg_type = msg['type'];\n\n        // Call the  \"handle_{type}\" callback, which takes\n        // the figure and JSON message as its only arguments.\n        try {\n            var callback = fig['handle_' + msg_type];\n        } catch (e) {\n            console.log(\n                \"No handler for the '\" + msg_type + \"' message type: \",\n                msg\n            );\n            return;\n        }\n\n        if (callback) {\n            try {\n                // console.log(\"Handling '\" + msg_type + \"' message: \", msg);\n                callback(fig, msg);\n            } catch (e) {\n                console.log(\n                    \"Exception inside the 'handler_\" + msg_type + \"' callback:\",\n                    e,\n                    e.stack,\n                    msg\n                );\n            }\n        }\n    };\n};\n\n// from http://stackoverflow.com/questions/1114465/getting-mouse-location-in-canvas\nmpl.findpos = function (e) {\n    //this section is from http://www.quirksmode.org/js/events_properties.html\n    var targ;\n    if (!e) {\n        e = window.event;\n    }\n    if (e.target) {\n        targ = e.target;\n    } else if (e.srcElement) {\n        targ = e.srcElement;\n    }\n    if (targ.nodeType === 3) {\n        // defeat Safari bug\n        targ = targ.parentNode;\n    }\n\n    // pageX,Y are the mouse positions relative to the document\n    var boundingRect = targ.getBoundingClientRect();\n    var x = e.pageX - (boundingRect.left + document.body.scrollLeft);\n    var y = e.pageY - (boundingRect.top + document.body.scrollTop);\n\n    return { x: x, y: y };\n};\n\n/*\n * return a copy of an object with only non-object keys\n * we need this to avoid circular references\n * http://stackoverflow.com/a/24161582/3208463\n */\nfunction simpleKeys(original) {\n    return Object.keys(original).reduce(function (obj, key) {\n        if (typeof original[key] !== 'object') {\n            obj[key] = original[key];\n        }\n        return obj;\n    }, {});\n}\n\nmpl.figure.prototype.mouse_event = function (event, name) {\n    var canvas_pos = mpl.findpos(event);\n\n    if (name === 'button_press') {\n        this.canvas.focus();\n        this.canvas_div.focus();\n    }\n\n    var x = canvas_pos.x * this.ratio;\n    var y = canvas_pos.y * this.ratio;\n\n    this.send_message(name, {\n        x: x,\n        y: y,\n        button: event.button,\n        step: event.step,\n        guiEvent: simpleKeys(event),\n    });\n\n    /* This prevents the web browser from automatically changing to\n     * the text insertion cursor when the button is pressed.  We want\n     * to control all of the cursor setting manually through the\n     * 'cursor' event from matplotlib */\n    event.preventDefault();\n    return false;\n};\n\nmpl.figure.prototype._key_event_extra = function (_event, _name) {\n    // Handle any extra behaviour associated with a key event\n};\n\nmpl.figure.prototype.key_event = function (event, name) {\n    // Prevent repeat events\n    if (name === 'key_press') {\n        if (event.key === this._key) {\n            return;\n        } else {\n            this._key = event.key;\n        }\n    }\n    if (name === 'key_release') {\n        this._key = null;\n    }\n\n    var value = '';\n    if (event.ctrlKey && event.key !== 'Control') {\n        value += 'ctrl+';\n    }\n    else if (event.altKey && event.key !== 'Alt') {\n        value += 'alt+';\n    }\n    else if (event.shiftKey && event.key !== 'Shift') {\n        value += 'shift+';\n    }\n\n    value += 'k' + event.key;\n\n    this._key_event_extra(event, name);\n\n    this.send_message(name, { key: value, guiEvent: simpleKeys(event) });\n    return false;\n};\n\nmpl.figure.prototype.toolbar_button_onclick = function (name) {\n    if (name === 'download') {\n        this.handle_save(this, null);\n    } else {\n        this.send_message('toolbar_button', { name: name });\n    }\n};\n\nmpl.figure.prototype.toolbar_button_onmouseover = function (tooltip) {\n    this.message.textContent = tooltip;\n};\n\n///////////////// REMAINING CONTENT GENERATED BY embed_js.py /////////////////\n// prettier-ignore\nvar _JSXTOOLS_RESIZE_OBSERVER=function(A){var t,i=new WeakMap,n=new WeakMap,a=new WeakMap,r=new WeakMap,o=new Set;function s(e){if(!(this instanceof s))throw new TypeError(\"Constructor requires 'new' operator\");i.set(this,e)}function h(){throw new TypeError(\"Function is not a constructor\")}function c(e,t,i,n){e=0 in arguments?Number(arguments[0]):0,t=1 in arguments?Number(arguments[1]):0,i=2 in arguments?Number(arguments[2]):0,n=3 in arguments?Number(arguments[3]):0,this.right=(this.x=this.left=e)+(this.width=i),this.bottom=(this.y=this.top=t)+(this.height=n),Object.freeze(this)}function d(){t=requestAnimationFrame(d);var s=new WeakMap,p=new Set;o.forEach((function(t){r.get(t).forEach((function(i){var r=t instanceof window.SVGElement,o=a.get(t),d=r?0:parseFloat(o.paddingTop),f=r?0:parseFloat(o.paddingRight),l=r?0:parseFloat(o.paddingBottom),u=r?0:parseFloat(o.paddingLeft),g=r?0:parseFloat(o.borderTopWidth),m=r?0:parseFloat(o.borderRightWidth),w=r?0:parseFloat(o.borderBottomWidth),b=u+f,F=d+l,v=(r?0:parseFloat(o.borderLeftWidth))+m,W=g+w,y=r?0:t.offsetHeight-W-t.clientHeight,E=r?0:t.offsetWidth-v-t.clientWidth,R=b+v,z=F+W,M=r?t.width:parseFloat(o.width)-R-E,O=r?t.height:parseFloat(o.height)-z-y;if(n.has(t)){var k=n.get(t);if(k[0]===M&&k[1]===O)return}n.set(t,[M,O]);var S=Object.create(h.prototype);S.target=t,S.contentRect=new c(u,d,M,O),s.has(i)||(s.set(i,[]),p.add(i)),s.get(i).push(S)}))})),p.forEach((function(e){i.get(e).call(e,s.get(e),e)}))}return s.prototype.observe=function(i){if(i instanceof window.Element){r.has(i)||(r.set(i,new Set),o.add(i),a.set(i,window.getComputedStyle(i)));var n=r.get(i);n.has(this)||n.add(this),cancelAnimationFrame(t),t=requestAnimationFrame(d)}},s.prototype.unobserve=function(i){if(i instanceof window.Element&&r.has(i)){var n=r.get(i);n.has(this)&&(n.delete(this),n.size||(r.delete(i),o.delete(i))),n.size||r.delete(i),o.size||cancelAnimationFrame(t)}},A.DOMRectReadOnly=c,A.ResizeObserver=s,A.ResizeObserverEntry=h,A}; // eslint-disable-line\nmpl.toolbar_items = [[\"Home\", \"Reset original view\", \"fa fa-home icon-home\", \"home\"], [\"Back\", \"Back to previous view\", \"fa fa-arrow-left icon-arrow-left\", \"back\"], [\"Forward\", \"Forward to next view\", \"fa fa-arrow-right icon-arrow-right\", \"forward\"], [\"\", \"\", \"\", \"\"], [\"Pan\", \"Left button pans, Right button zooms\\nx/y fixes axis, CTRL fixes aspect\", \"fa fa-arrows icon-move\", \"pan\"], [\"Zoom\", \"Zoom to rectangle\\nx/y fixes axis, CTRL fixes aspect\", \"fa fa-square-o icon-check-empty\", \"zoom\"], [\"\", \"\", \"\", \"\"], [\"Download\", \"Download plot\", \"fa fa-floppy-o icon-save\", \"download\"]];\n\nmpl.extensions = [\"eps\", \"jpeg\", \"pgf\", \"pdf\", \"png\", \"ps\", \"raw\", \"svg\", \"tif\"];\n\nmpl.default_extension = \"png\";/* global mpl */\n\nvar comm_websocket_adapter = function (comm) {\n    // Create a \"websocket\"-like object which calls the given IPython comm\n    // object with the appropriate methods. Currently this is a non binary\n    // socket, so there is still some room for performance tuning.\n    var ws = {};\n\n    ws.binaryType = comm.kernel.ws.binaryType;\n    ws.readyState = comm.kernel.ws.readyState;\n    function updateReadyState(_event) {\n        if (comm.kernel.ws) {\n            ws.readyState = comm.kernel.ws.readyState;\n        } else {\n            ws.readyState = 3; // Closed state.\n        }\n    }\n    comm.kernel.ws.addEventListener('open', updateReadyState);\n    comm.kernel.ws.addEventListener('close', updateReadyState);\n    comm.kernel.ws.addEventListener('error', updateReadyState);\n\n    ws.close = function () {\n        comm.close();\n    };\n    ws.send = function (m) {\n        //console.log('sending', m);\n        comm.send(m);\n    };\n    // Register the callback with on_msg.\n    comm.on_msg(function (msg) {\n        //console.log('receiving', msg['content']['data'], msg);\n        var data = msg['content']['data'];\n        if (data['blob'] !== undefined) {\n            data = {\n                data: new Blob(msg['buffers'], { type: data['blob'] }),\n            };\n        }\n        // Pass the mpl event to the overridden (by mpl) onmessage function.\n        ws.onmessage(data);\n    });\n    return ws;\n};\n\nmpl.mpl_figure_comm = function (comm, msg) {\n    // This is the function which gets called when the mpl process\n    // starts-up an IPython Comm through the \"matplotlib\" channel.\n\n    var id = msg.content.data.id;\n    // Get hold of the div created by the display call when the Comm\n    // socket was opened in Python.\n    var element = document.getElementById(id);\n    var ws_proxy = comm_websocket_adapter(comm);\n\n    function ondownload(figure, _format) {\n        window.open(figure.canvas.toDataURL());\n    }\n\n    var fig = new mpl.figure(id, ws_proxy, ondownload, element);\n\n    // Call onopen now - mpl needs it, as it is assuming we've passed it a real\n    // web socket which is closed, not our websocket->open comm proxy.\n    ws_proxy.onopen();\n\n    fig.parent_element = element;\n    fig.cell_info = mpl.find_output_cell(\"<div id='\" + id + \"'></div>\");\n    if (!fig.cell_info) {\n        console.error('Failed to find cell for figure', id, fig);\n        return;\n    }\n    fig.cell_info[0].output_area.element.on(\n        'cleared',\n        { fig: fig },\n        fig._remove_fig_handler\n    );\n};\n\nmpl.figure.prototype.handle_close = function (fig, msg) {\n    var width = fig.canvas.width / fig.ratio;\n    fig.cell_info[0].output_area.element.off(\n        'cleared',\n        fig._remove_fig_handler\n    );\n    fig.resizeObserverInstance.unobserve(fig.canvas_div);\n\n    // Update the output cell to use the data from the current canvas.\n    fig.push_to_output();\n    var dataURL = fig.canvas.toDataURL();\n    // Re-enable the keyboard manager in IPython - without this line, in FF,\n    // the notebook keyboard shortcuts fail.\n    IPython.keyboard_manager.enable();\n    fig.parent_element.innerHTML =\n        '<img src=\"' + dataURL + '\" width=\"' + width + '\">';\n    fig.close_ws(fig, msg);\n};\n\nmpl.figure.prototype.close_ws = function (fig, msg) {\n    fig.send_message('closing', msg);\n    // fig.ws.close()\n};\n\nmpl.figure.prototype.push_to_output = function (_remove_interactive) {\n    // Turn the data on the canvas into data in the output cell.\n    var width = this.canvas.width / this.ratio;\n    var dataURL = this.canvas.toDataURL();\n    this.cell_info[1]['text/html'] =\n        '<img src=\"' + dataURL + '\" width=\"' + width + '\">';\n};\n\nmpl.figure.prototype.updated_canvas_event = function () {\n    // Tell IPython that the notebook contents must change.\n    IPython.notebook.set_dirty(true);\n    this.send_message('ack', {});\n    var fig = this;\n    // Wait a second, then push the new image to the DOM so\n    // that it is saved nicely (might be nice to debounce this).\n    setTimeout(function () {\n        fig.push_to_output();\n    }, 1000);\n};\n\nmpl.figure.prototype._init_toolbar = function () {\n    var fig = this;\n\n    var toolbar = document.createElement('div');\n    toolbar.classList = 'btn-toolbar';\n    this.root.appendChild(toolbar);\n\n    function on_click_closure(name) {\n        return function (_event) {\n            return fig.toolbar_button_onclick(name);\n        };\n    }\n\n    function on_mouseover_closure(tooltip) {\n        return function (event) {\n            if (!event.currentTarget.disabled) {\n                return fig.toolbar_button_onmouseover(tooltip);\n            }\n        };\n    }\n\n    fig.buttons = {};\n    var buttonGroup = document.createElement('div');\n    buttonGroup.classList = 'btn-group';\n    var button;\n    for (var toolbar_ind in mpl.toolbar_items) {\n        var name = mpl.toolbar_items[toolbar_ind][0];\n        var tooltip = mpl.toolbar_items[toolbar_ind][1];\n        var image = mpl.toolbar_items[toolbar_ind][2];\n        var method_name = mpl.toolbar_items[toolbar_ind][3];\n\n        if (!name) {\n            /* Instead of a spacer, we start a new button group. */\n            if (buttonGroup.hasChildNodes()) {\n                toolbar.appendChild(buttonGroup);\n            }\n            buttonGroup = document.createElement('div');\n            buttonGroup.classList = 'btn-group';\n            continue;\n        }\n\n        button = fig.buttons[name] = document.createElement('button');\n        button.classList = 'btn btn-default';\n        button.href = '#';\n        button.title = name;\n        button.innerHTML = '<i class=\"fa ' + image + ' fa-lg\"></i>';\n        button.addEventListener('click', on_click_closure(method_name));\n        button.addEventListener('mouseover', on_mouseover_closure(tooltip));\n        buttonGroup.appendChild(button);\n    }\n\n    if (buttonGroup.hasChildNodes()) {\n        toolbar.appendChild(buttonGroup);\n    }\n\n    // Add the status bar.\n    var status_bar = document.createElement('span');\n    status_bar.classList = 'mpl-message pull-right';\n    toolbar.appendChild(status_bar);\n    this.message = status_bar;\n\n    // Add the close button to the window.\n    var buttongrp = document.createElement('div');\n    buttongrp.classList = 'btn-group inline pull-right';\n    button = document.createElement('button');\n    button.classList = 'btn btn-mini btn-primary';\n    button.href = '#';\n    button.title = 'Stop Interaction';\n    button.innerHTML = '<i class=\"fa fa-power-off icon-remove icon-large\"></i>';\n    button.addEventListener('click', function (_evt) {\n        fig.handle_close(fig, {});\n    });\n    button.addEventListener(\n        'mouseover',\n        on_mouseover_closure('Stop Interaction')\n    );\n    buttongrp.appendChild(button);\n    var titlebar = this.root.querySelector('.ui-dialog-titlebar');\n    titlebar.insertBefore(buttongrp, titlebar.firstChild);\n};\n\nmpl.figure.prototype._remove_fig_handler = function (event) {\n    var fig = event.data.fig;\n    if (event.target !== this) {\n        // Ignore bubbled events from children.\n        return;\n    }\n    fig.close_ws(fig, {});\n};\n\nmpl.figure.prototype._root_extra_style = function (el) {\n    el.style.boxSizing = 'content-box'; // override notebook setting of border-box.\n};\n\nmpl.figure.prototype._canvas_extra_style = function (el) {\n    // this is important to make the div 'focusable\n    el.setAttribute('tabindex', 0);\n    // reach out to IPython and tell the keyboard manager to turn it's self\n    // off when our div gets focus\n\n    // location in version 3\n    if (IPython.notebook.keyboard_manager) {\n        IPython.notebook.keyboard_manager.register_events(el);\n    } else {\n        // location in version 2\n        IPython.keyboard_manager.register_events(el);\n    }\n};\n\nmpl.figure.prototype._key_event_extra = function (event, _name) {\n    var manager = IPython.notebook.keyboard_manager;\n    if (!manager) {\n        manager = IPython.keyboard_manager;\n    }\n\n    // Check for shift+enter\n    if (event.shiftKey && event.which === 13) {\n        this.canvas_div.blur();\n        // select the cell after this one\n        var index = IPython.notebook.find_cell_index(this.cell_info[0]);\n        IPython.notebook.select(index + 1);\n    }\n};\n\nmpl.figure.prototype.handle_save = function (fig, _msg) {\n    fig.ondownload(fig, null);\n};\n\nmpl.find_output_cell = function (html_output) {\n    // Return the cell and output element which can be found *uniquely* in the notebook.\n    // Note - this is a bit hacky, but it is done because the \"notebook_saving.Notebook\"\n    // IPython event is triggered only after the cells have been serialised, which for\n    // our purposes (turning an active figure into a static one), is too late.\n    var cells = IPython.notebook.get_cells();\n    var ncells = cells.length;\n    for (var i = 0; i < ncells; i++) {\n        var cell = cells[i];\n        if (cell.cell_type === 'code') {\n            for (var j = 0; j < cell.output_area.outputs.length; j++) {\n                var data = cell.output_area.outputs[j];\n                if (data.data) {\n                    // IPython >= 3 moved mimebundle to data attribute of output\n                    data = data.data;\n                }\n                if (data['text/html'] === html_output) {\n                    return [cell, data, j];\n                }\n            }\n        }\n    }\n};\n\n// Register the function which deals with the matplotlib target/channel.\n// The kernel may be null if the page has been refreshed.\nif (IPython.notebook.kernel !== null) {\n    IPython.notebook.kernel.comm_manager.register_target(\n        'matplotlib',\n        mpl.mpl_figure_comm\n    );\n}\n",
      "text/plain": [
       "<IPython.core.display.Javascript object>"
      ]
     },
     "metadata": {},
     "output_type": "display_data"
    },
    {
     "data": {
      "text/html": [
       "<img src=\"data:image/png;base64,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\" width=\"432\">"
      ],
      "text/plain": [
       "<IPython.core.display.HTML object>"
      ]
     },
     "metadata": {},
     "output_type": "display_data"
    },
    {
     "data": {
      "text/plain": [
       "Text(0, 0.5, 'Cost J')"
      ]
     },
     "execution_count": 57,
     "metadata": {},
     "output_type": "execute_result"
    }
   ],
   "source": [
    "#Plot to see how the cost function decreased as the model is fitted to the data\n",
    "pyplot.plot(np.arange(len(J_history)), J_history)\n",
    "pyplot.xlabel('Number of iterations')\n",
    "pyplot.ylabel('Cost J')\n"
   ]
  },
  {
   "cell_type": "code",
   "execution_count": null,
   "id": "f188e945",
   "metadata": {},
   "outputs": [],
   "source": []
  }
 ],
 "metadata": {
  "kernelspec": {
   "display_name": "Python 3 (ipykernel)",
   "language": "python",
   "name": "python3"
  },
  "language_info": {
   "codemirror_mode": {
    "name": "ipython",
    "version": 3
   },
   "file_extension": ".py",
   "mimetype": "text/x-python",
   "name": "python",
   "nbconvert_exporter": "python",
   "pygments_lexer": "ipython3",
   "version": "3.8.8"
  }
 },
 "nbformat": 4,
 "nbformat_minor": 5
}
