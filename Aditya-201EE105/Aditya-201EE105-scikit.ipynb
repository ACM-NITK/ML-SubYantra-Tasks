{
 "cells": [
  {
   "cell_type": "code",
   "execution_count": 1,
   "id": "c068b16e",
   "metadata": {},
   "outputs": [],
   "source": [
    "#Importing necessary libraries to perform operations on dataframes and perform linear regression\n",
    "import numpy as np               \n",
    "import pandas as pd\n",
    "import matplotlib.pyplot as plt\n",
    "from sklearn.linear_model import LinearRegression\n",
    "from sklearn.model_selection import train_test_split\n",
    "from sklearn.impute import KNNImputer\n",
    "from sklearn.metrics import mean_absolute_error\n",
    "from sklearn.metrics import mean_squared_error"
   ]
  },
  {
   "cell_type": "code",
   "execution_count": 3,
   "id": "fb1c0246",
   "metadata": {},
   "outputs": [
    {
     "name": "stdout",
     "output_type": "stream",
     "text": [
      "<bound method NDFrame.head of        longitude  latitude  housing_median_age  total_rooms  total_bedrooms  \\\n",
      "0        -122.23     37.88                41.0        880.0           129.0   \n",
      "1        -122.22     37.86                21.0       7099.0          1106.0   \n",
      "2        -122.24     37.85                52.0       1467.0           190.0   \n",
      "3        -122.25     37.85                52.0       1274.0           235.0   \n",
      "4        -122.25     37.85                52.0       1627.0           280.0   \n",
      "...          ...       ...                 ...          ...             ...   \n",
      "20635    -121.09     39.48                25.0       1665.0           374.0   \n",
      "20636    -121.21     39.49                18.0        697.0           150.0   \n",
      "20637    -121.22     39.43                17.0       2254.0           485.0   \n",
      "20638    -121.32     39.43                18.0       1860.0           409.0   \n",
      "20639    -121.24     39.37                16.0       2785.0           616.0   \n",
      "\n",
      "       population  households  median_income  median_house_value  \n",
      "0           322.0       126.0         8.3252            452600.0  \n",
      "1          2401.0      1138.0         8.3014            358500.0  \n",
      "2           496.0       177.0         7.2574            352100.0  \n",
      "3           558.0       219.0         5.6431            341300.0  \n",
      "4           565.0       259.0         3.8462            342200.0  \n",
      "...           ...         ...            ...                 ...  \n",
      "20635       845.0       330.0         1.5603             78100.0  \n",
      "20636       356.0       114.0         2.5568             77100.0  \n",
      "20637      1007.0       433.0         1.7000             92300.0  \n",
      "20638       741.0       349.0         1.8672             84700.0  \n",
      "20639      1387.0       530.0         2.3886             89400.0  \n",
      "\n",
      "[20640 rows x 9 columns]>\n",
      "<bound method NDFrame.tail of        longitude  latitude  housing_median_age  total_rooms  total_bedrooms  \\\n",
      "0        -122.23     37.88                41.0        880.0           129.0   \n",
      "1        -122.22     37.86                21.0       7099.0          1106.0   \n",
      "2        -122.24     37.85                52.0       1467.0           190.0   \n",
      "3        -122.25     37.85                52.0       1274.0           235.0   \n",
      "4        -122.25     37.85                52.0       1627.0           280.0   \n",
      "...          ...       ...                 ...          ...             ...   \n",
      "20635    -121.09     39.48                25.0       1665.0           374.0   \n",
      "20636    -121.21     39.49                18.0        697.0           150.0   \n",
      "20637    -121.22     39.43                17.0       2254.0           485.0   \n",
      "20638    -121.32     39.43                18.0       1860.0           409.0   \n",
      "20639    -121.24     39.37                16.0       2785.0           616.0   \n",
      "\n",
      "       population  households  median_income  median_house_value  \n",
      "0           322.0       126.0         8.3252            452600.0  \n",
      "1          2401.0      1138.0         8.3014            358500.0  \n",
      "2           496.0       177.0         7.2574            352100.0  \n",
      "3           558.0       219.0         5.6431            341300.0  \n",
      "4           565.0       259.0         3.8462            342200.0  \n",
      "...           ...         ...            ...                 ...  \n",
      "20635       845.0       330.0         1.5603             78100.0  \n",
      "20636       356.0       114.0         2.5568             77100.0  \n",
      "20637      1007.0       433.0         1.7000             92300.0  \n",
      "20638       741.0       349.0         1.8672             84700.0  \n",
      "20639      1387.0       530.0         2.3886             89400.0  \n",
      "\n",
      "[20640 rows x 9 columns]>\n"
     ]
    }
   ],
   "source": [
    "#Loading data into pandas dataframe\n",
    "df = pd.read_csv( r'dataset_housingprices.csv')\n",
    "#df= df.dropna()  Dropping rows with empty data\n",
    "\n",
    "imputer = KNNImputer(n_neighbors=10)    #An alternative to substituting with median or dropping the rows\n",
    "df_data = imputer.fit_transform(df)\n",
    "df = pd.DataFrame(df_data, columns = df.columns )\n",
    "df.columns\n",
    "\n",
    "print(df.head)   #Analysis the data present\n",
    "print(df.tail)"
   ]
  },
  {
   "cell_type": "code",
   "execution_count": 4,
   "id": "832a44c5",
   "metadata": {},
   "outputs": [
    {
     "data": {
      "text/html": [
       "<div>\n",
       "<style scoped>\n",
       "    .dataframe tbody tr th:only-of-type {\n",
       "        vertical-align: middle;\n",
       "    }\n",
       "\n",
       "    .dataframe tbody tr th {\n",
       "        vertical-align: top;\n",
       "    }\n",
       "\n",
       "    .dataframe thead th {\n",
       "        text-align: right;\n",
       "    }\n",
       "</style>\n",
       "<table border=\"1\" class=\"dataframe\">\n",
       "  <thead>\n",
       "    <tr style=\"text-align: right;\">\n",
       "      <th></th>\n",
       "      <th>longitude</th>\n",
       "      <th>latitude</th>\n",
       "      <th>housing_median_age</th>\n",
       "      <th>total_rooms</th>\n",
       "      <th>total_bedrooms</th>\n",
       "      <th>population</th>\n",
       "      <th>households</th>\n",
       "      <th>median_income</th>\n",
       "      <th>median_house_value</th>\n",
       "    </tr>\n",
       "  </thead>\n",
       "  <tbody>\n",
       "    <tr>\n",
       "      <th>longitude</th>\n",
       "      <td>1.000000</td>\n",
       "      <td>-0.924664</td>\n",
       "      <td>-0.108197</td>\n",
       "      <td>0.044568</td>\n",
       "      <td>0.068926</td>\n",
       "      <td>0.099773</td>\n",
       "      <td>0.055310</td>\n",
       "      <td>-0.015176</td>\n",
       "      <td>-0.045967</td>\n",
       "    </tr>\n",
       "    <tr>\n",
       "      <th>latitude</th>\n",
       "      <td>-0.924664</td>\n",
       "      <td>1.000000</td>\n",
       "      <td>0.011173</td>\n",
       "      <td>-0.036100</td>\n",
       "      <td>-0.066479</td>\n",
       "      <td>-0.108785</td>\n",
       "      <td>-0.071035</td>\n",
       "      <td>-0.079809</td>\n",
       "      <td>-0.144160</td>\n",
       "    </tr>\n",
       "    <tr>\n",
       "      <th>housing_median_age</th>\n",
       "      <td>-0.108197</td>\n",
       "      <td>0.011173</td>\n",
       "      <td>1.000000</td>\n",
       "      <td>-0.361262</td>\n",
       "      <td>-0.321104</td>\n",
       "      <td>-0.296244</td>\n",
       "      <td>-0.302916</td>\n",
       "      <td>-0.119034</td>\n",
       "      <td>0.105623</td>\n",
       "    </tr>\n",
       "    <tr>\n",
       "      <th>total_rooms</th>\n",
       "      <td>0.044568</td>\n",
       "      <td>-0.036100</td>\n",
       "      <td>-0.361262</td>\n",
       "      <td>1.000000</td>\n",
       "      <td>0.930393</td>\n",
       "      <td>0.857126</td>\n",
       "      <td>0.918484</td>\n",
       "      <td>0.198050</td>\n",
       "      <td>0.134153</td>\n",
       "    </tr>\n",
       "    <tr>\n",
       "      <th>total_bedrooms</th>\n",
       "      <td>0.068926</td>\n",
       "      <td>-0.066479</td>\n",
       "      <td>-0.321104</td>\n",
       "      <td>0.930393</td>\n",
       "      <td>1.000000</td>\n",
       "      <td>0.877570</td>\n",
       "      <td>0.978439</td>\n",
       "      <td>-0.006949</td>\n",
       "      <td>0.050251</td>\n",
       "    </tr>\n",
       "    <tr>\n",
       "      <th>population</th>\n",
       "      <td>0.099773</td>\n",
       "      <td>-0.108785</td>\n",
       "      <td>-0.296244</td>\n",
       "      <td>0.857126</td>\n",
       "      <td>0.877570</td>\n",
       "      <td>1.000000</td>\n",
       "      <td>0.907222</td>\n",
       "      <td>0.004834</td>\n",
       "      <td>-0.024650</td>\n",
       "    </tr>\n",
       "    <tr>\n",
       "      <th>households</th>\n",
       "      <td>0.055310</td>\n",
       "      <td>-0.071035</td>\n",
       "      <td>-0.302916</td>\n",
       "      <td>0.918484</td>\n",
       "      <td>0.978439</td>\n",
       "      <td>0.907222</td>\n",
       "      <td>1.000000</td>\n",
       "      <td>0.013033</td>\n",
       "      <td>0.065843</td>\n",
       "    </tr>\n",
       "    <tr>\n",
       "      <th>median_income</th>\n",
       "      <td>-0.015176</td>\n",
       "      <td>-0.079809</td>\n",
       "      <td>-0.119034</td>\n",
       "      <td>0.198050</td>\n",
       "      <td>-0.006949</td>\n",
       "      <td>0.004834</td>\n",
       "      <td>0.013033</td>\n",
       "      <td>1.000000</td>\n",
       "      <td>0.688075</td>\n",
       "    </tr>\n",
       "    <tr>\n",
       "      <th>median_house_value</th>\n",
       "      <td>-0.045967</td>\n",
       "      <td>-0.144160</td>\n",
       "      <td>0.105623</td>\n",
       "      <td>0.134153</td>\n",
       "      <td>0.050251</td>\n",
       "      <td>-0.024650</td>\n",
       "      <td>0.065843</td>\n",
       "      <td>0.688075</td>\n",
       "      <td>1.000000</td>\n",
       "    </tr>\n",
       "  </tbody>\n",
       "</table>\n",
       "</div>"
      ],
      "text/plain": [
       "                    longitude  latitude  housing_median_age  total_rooms  \\\n",
       "longitude            1.000000 -0.924664           -0.108197     0.044568   \n",
       "latitude            -0.924664  1.000000            0.011173    -0.036100   \n",
       "housing_median_age  -0.108197  0.011173            1.000000    -0.361262   \n",
       "total_rooms          0.044568 -0.036100           -0.361262     1.000000   \n",
       "total_bedrooms       0.068926 -0.066479           -0.321104     0.930393   \n",
       "population           0.099773 -0.108785           -0.296244     0.857126   \n",
       "households           0.055310 -0.071035           -0.302916     0.918484   \n",
       "median_income       -0.015176 -0.079809           -0.119034     0.198050   \n",
       "median_house_value  -0.045967 -0.144160            0.105623     0.134153   \n",
       "\n",
       "                    total_bedrooms  population  households  median_income  \\\n",
       "longitude                 0.068926    0.099773    0.055310      -0.015176   \n",
       "latitude                 -0.066479   -0.108785   -0.071035      -0.079809   \n",
       "housing_median_age       -0.321104   -0.296244   -0.302916      -0.119034   \n",
       "total_rooms               0.930393    0.857126    0.918484       0.198050   \n",
       "total_bedrooms            1.000000    0.877570    0.978439      -0.006949   \n",
       "population                0.877570    1.000000    0.907222       0.004834   \n",
       "households                0.978439    0.907222    1.000000       0.013033   \n",
       "median_income            -0.006949    0.004834    0.013033       1.000000   \n",
       "median_house_value        0.050251   -0.024650    0.065843       0.688075   \n",
       "\n",
       "                    median_house_value  \n",
       "longitude                    -0.045967  \n",
       "latitude                     -0.144160  \n",
       "housing_median_age            0.105623  \n",
       "total_rooms                   0.134153  \n",
       "total_bedrooms                0.050251  \n",
       "population                   -0.024650  \n",
       "households                    0.065843  \n",
       "median_income                 0.688075  \n",
       "median_house_value            1.000000  "
      ]
     },
     "execution_count": 4,
     "metadata": {},
     "output_type": "execute_result"
    }
   ],
   "source": [
    "df.corr()"
   ]
  },
  {
   "cell_type": "code",
   "execution_count": 5,
   "id": "e671515a",
   "metadata": {},
   "outputs": [],
   "source": [
    "X = df.iloc[:, 0:8]    #Dataframe with all features\n",
    "y = df.iloc[:, 8]      #Dataframe with the outputs\n"
   ]
  },
  {
   "cell_type": "code",
   "execution_count": 6,
   "id": "0fdbf4e9",
   "metadata": {},
   "outputs": [
    {
     "name": "stdout",
     "output_type": "stream",
     "text": [
      "       longitude  latitude  housing_median_age  total_rooms  total_bedrooms  \\\n",
      "0        -122.23     37.88                41.0        880.0           129.0   \n",
      "1        -122.22     37.86                21.0       7099.0          1106.0   \n",
      "2        -122.24     37.85                52.0       1467.0           190.0   \n",
      "3        -122.25     37.85                52.0       1274.0           235.0   \n",
      "4        -122.25     37.85                52.0       1627.0           280.0   \n",
      "...          ...       ...                 ...          ...             ...   \n",
      "20635    -121.09     39.48                25.0       1665.0           374.0   \n",
      "20636    -121.21     39.49                18.0        697.0           150.0   \n",
      "20637    -121.22     39.43                17.0       2254.0           485.0   \n",
      "20638    -121.32     39.43                18.0       1860.0           409.0   \n",
      "20639    -121.24     39.37                16.0       2785.0           616.0   \n",
      "\n",
      "       population  households  median_income  \n",
      "0           322.0       126.0         8.3252  \n",
      "1          2401.0      1138.0         8.3014  \n",
      "2           496.0       177.0         7.2574  \n",
      "3           558.0       219.0         5.6431  \n",
      "4           565.0       259.0         3.8462  \n",
      "...           ...         ...            ...  \n",
      "20635       845.0       330.0         1.5603  \n",
      "20636       356.0       114.0         2.5568  \n",
      "20637      1007.0       433.0         1.7000  \n",
      "20638       741.0       349.0         1.8672  \n",
      "20639      1387.0       530.0         2.3886  \n",
      "\n",
      "[20640 rows x 8 columns]\n",
      "0        452600.0\n",
      "1        358500.0\n",
      "2        352100.0\n",
      "3        341300.0\n",
      "4        342200.0\n",
      "           ...   \n",
      "20635     78100.0\n",
      "20636     77100.0\n",
      "20637     92300.0\n",
      "20638     84700.0\n",
      "20639     89400.0\n",
      "Name: median_house_value, Length: 20640, dtype: float64\n"
     ]
    }
   ],
   "source": [
    "print(X)\n",
    "print(y)"
   ]
  },
  {
   "cell_type": "code",
   "execution_count": 7,
   "id": "403b26db",
   "metadata": {},
   "outputs": [],
   "source": [
    "X_train, X_test, y_train, y_test = train_test_split(X, y, test_size = 0.25)   #Performing Test-train split with ratio 1:3"
   ]
  },
  {
   "cell_type": "code",
   "execution_count": 8,
   "id": "6ff0c95d",
   "metadata": {},
   "outputs": [
    {
     "data": {
      "text/plain": [
       "LinearRegression()"
      ]
     },
     "execution_count": 8,
     "metadata": {},
     "output_type": "execute_result"
    }
   ],
   "source": [
    "#Creating the model\n",
    "model= LinearRegression()\n",
    "model.fit(X_train, y_train)"
   ]
  },
  {
   "cell_type": "code",
   "execution_count": 9,
   "id": "6b4465b2",
   "metadata": {},
   "outputs": [
    {
     "name": "stdout",
     "output_type": "stream",
     "text": [
      "parameters [-4.21047692e+04 -4.18944783e+04  1.22185365e+03 -8.18095265e+00\n",
      "  1.08896680e+02 -3.86416381e+01  5.46271074e+01  4.04107784e+04]\n",
      "Intercept -3535462.486578296\n"
     ]
    }
   ],
   "source": [
    "print(\"parameters\", model.coef_)           #  m1,m2,.... in y=m1X1+m2X2......+C\n",
    "print(\"Intercept\", model.intercept_)       #  C in y=m1X1+m2X2......+C"
   ]
  },
  {
   "cell_type": "code",
   "execution_count": 10,
   "id": "3cef08db",
   "metadata": {},
   "outputs": [],
   "source": [
    "prediction = model.predict(X_test)         # Finding the outputs with testing data for comparing with available data to find accuracy      \n"
   ]
  },
  {
   "cell_type": "code",
   "execution_count": 11,
   "id": "16e4a94b",
   "metadata": {},
   "outputs": [
    {
     "name": "stdout",
     "output_type": "stream",
     "text": [
      "predicted response:\n",
      "[238164.07514816 252765.20745198 165128.21612232 ... 187561.63979537\n",
      " 275180.42661281  90669.93795101]\n"
     ]
    }
   ],
   "source": [
    "print('predicted response:', prediction, sep='\\n')"
   ]
  },
  {
   "cell_type": "code",
   "execution_count": 12,
   "id": "6ee290f1",
   "metadata": {},
   "outputs": [
    {
     "name": "stdout",
     "output_type": "stream",
     "text": [
      "0.6398649816786595\n"
     ]
    }
   ],
   "source": [
    "r_sq=model.score(X_train, y_train) #R2 Score\n",
    "print(r_sq)"
   ]
  },
  {
   "cell_type": "code",
   "execution_count": 13,
   "id": "f8e02905",
   "metadata": {},
   "outputs": [
    {
     "data": {
      "text/plain": [
       "51369.8591005981"
      ]
     },
     "execution_count": 13,
     "metadata": {},
     "output_type": "execute_result"
    }
   ],
   "source": [
    "mean_absolute_error(y_test,prediction) #Mean absolute error by comparing"
   ]
  },
  {
   "cell_type": "code",
   "execution_count": 14,
   "id": "02ea1836",
   "metadata": {},
   "outputs": [
    {
     "data": {
      "text/plain": [
       "4945210489.426822"
      ]
     },
     "execution_count": 14,
     "metadata": {},
     "output_type": "execute_result"
    }
   ],
   "source": [
    "mean_squared_error(y_test,prediction) #Mean squared error"
   ]
  },
  {
   "cell_type": "code",
   "execution_count": 15,
   "id": "4866f04f",
   "metadata": {},
   "outputs": [
    {
     "data": {
      "text/plain": [
       "70322.19059035933"
      ]
     },
     "execution_count": 15,
     "metadata": {},
     "output_type": "execute_result"
    }
   ],
   "source": [
    "np.sqrt(mean_squared_error(y_test,prediction)) #Root mean squared error"
   ]
  },
  {
   "cell_type": "code",
   "execution_count": null,
   "id": "4589b56e",
   "metadata": {},
   "outputs": [],
   "source": []
  }
 ],
 "metadata": {
  "kernelspec": {
   "display_name": "Python 3 (ipykernel)",
   "language": "python",
   "name": "python3"
  },
  "language_info": {
   "codemirror_mode": {
    "name": "ipython",
    "version": 3
   },
   "file_extension": ".py",
   "mimetype": "text/x-python",
   "name": "python",
   "nbconvert_exporter": "python",
   "pygments_lexer": "ipython3",
   "version": "3.8.8"
  }
 },
 "nbformat": 4,
 "nbformat_minor": 5
}
